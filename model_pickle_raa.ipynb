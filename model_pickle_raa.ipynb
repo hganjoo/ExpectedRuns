{
 "cells": [
  {
   "cell_type": "markdown",
   "metadata": {},
   "source": [
    "# Expected Runs Generator\n",
    "\n",
    "This notebook illustrates how to import a trained model that predicts the expected runs to be scored by a batter in a given situation. The situation here is defined by a combination of (Innings Phase, Team Wickets Lost, Ball No For Batter).\n",
    "\n",
    "The model was trained using XGBoost over 589,000 balls from 2588 T20 games since 2015, including high-level T20Is, IPL, PSL, CPL, BBL games. The model accounts for the \"settling in\" phase of batters.  \n",
    "\n",
    "The innings phase is coded as follows:\n",
    "\n",
    "* 1: Powerplay (1-6)\n",
    "* 2: Middle 1 (7-11)\n",
    "* 3: Middle 2 (12-16)\n",
    "* 4: Death (17-20)\n",
    "\n",
    "To begin, we import the model, which is provided as a binary file with this notebook."
   ]
  },
  {
   "cell_type": "code",
   "execution_count": 5,
   "metadata": {},
   "outputs": [],
   "source": [
    "import pickle\n",
    "model = pickle.load(open('raa_model_1.mdl','rb')) # imported as sklearn model"
   ]
  },
  {
   "cell_type": "markdown",
   "metadata": {},
   "source": [
    "As a basic example, to predict the expected runs for a batter facing his 15th ball in phase 4 with 2 innings wickets lost, we run the following code:"
   ]
  },
  {
   "cell_type": "code",
   "execution_count": 6,
   "metadata": {},
   "outputs": [
    {
     "data": {
      "text/plain": [
       "array([1.9183381], dtype=float32)"
      ]
     },
     "execution_count": 6,
     "metadata": {},
     "output_type": "execute_result"
    }
   ],
   "source": [
    "model.predict([[4,2,15]])"
   ]
  },
  {
   "cell_type": "markdown",
   "metadata": {},
   "source": [
    "As another example, if we wanted to see how the expected runs progress as a batter settles down in Phase 2 (Overs 7-11) with his team having lost 2 wickets:"
   ]
  },
  {
   "cell_type": "code",
   "execution_count": 10,
   "metadata": {},
   "outputs": [
    {
     "name": "stdout",
     "output_type": "stream",
     "text": [
      "[0.74398965 0.88172495 0.97071874 1.0648263  1.1019783  1.1559036\n",
      " 1.180978   1.1969091  1.2279571  1.2449601  1.2500232  1.257376\n",
      " 1.257376   1.2570008  1.2567008  1.2583953  1.2583953  1.2583953\n",
      " 1.2583953  1.2583953  1.2583953  1.2583953  1.2583953  1.2583953\n",
      " 1.2583953 ]\n"
     ]
    }
   ],
   "source": [
    "import numpy as np\n",
    "# The input to the model is of the form [Phase,Wkts,Ball]. This makes inputs from ball 1 to 25\n",
    "xs = np.array([[2,2,i] for i in range(1,26)])\n",
    "\n",
    "runs = model.predict(xs) # the predicted runs\n",
    "\n",
    "print(runs)"
   ]
  },
  {
   "cell_type": "code",
   "execution_count": null,
   "metadata": {},
   "outputs": [],
   "source": []
  }
 ],
 "metadata": {
  "kernelspec": {
   "display_name": "Python 2",
   "language": "python",
   "name": "python2"
  },
  "language_info": {
   "codemirror_mode": {
    "name": "ipython",
    "version": 2
   },
   "file_extension": ".py",
   "mimetype": "text/x-python",
   "name": "python",
   "nbconvert_exporter": "python",
   "pygments_lexer": "ipython2",
   "version": "2.7.15"
  }
 },
 "nbformat": 4,
 "nbformat_minor": 2
}
